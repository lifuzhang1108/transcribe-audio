{
 "cells": [
  {
   "cell_type": "code",
   "execution_count": 5,
   "metadata": {},
   "outputs": [
    {
     "name": "stdout",
     "output_type": "stream",
     "text": [
      "module https://tfhub.dev/google/universal-sentence-encoder-large/5 loaded\n"
     ]
    }
   ],
   "source": [
    "from absl import logging\n",
    "import tensorflow as tf\n",
    "from tensorflow import keras\n",
    "from tensorflow.keras import layers\n",
    "import tensorflow_hub as hub\n",
    "import matplotlib.pyplot as plt\n",
    "import numpy as np\n",
    "import os\n",
    "import pandas as pd\n",
    "import re\n",
    "import seaborn as sns\n",
    "import os\n",
    "from tqdm import tqdm\n",
    "import random\n",
    "\n",
    "module_url = \"https://tfhub.dev/google/universal-sentence-encoder-large/5\" \n",
    "model = hub.load(module_url)\n",
    "print (\"module %s loaded\" % module_url)\n",
    "\n",
    "def embed(input):\n",
    "     return model(input)"
   ]
  },
  {
   "cell_type": "code",
   "execution_count": 8,
   "metadata": {},
   "outputs": [],
   "source": [
    "df=pd.read_csv('complete_data/2020_10_07/label_demented_within_(656)_[1266]_2020100755_dvoice_demented_within.csv') \n",
    "file_list=[]\n",
    "for root, dirs, files in os.walk(\"./google_output\"):\n",
    "    for file in files:\n",
    "        if file.endswith(\".txt\") and ('part' not in file):\n",
    "            fn=os.path.join(root, file)\n",
    "            file_list.append(fn)\n",
    "            \n"
   ]
  },
  {
   "cell_type": "code",
   "execution_count": 14,
   "metadata": {},
   "outputs": [
    {
     "data": {
      "text/plain": [
       "'1-1094_20070315'"
      ]
     },
     "execution_count": 14,
     "metadata": {},
     "output_type": "execute_result"
    }
   ],
   "source": [
    "def fn_to_id(a):\n",
    "    a=a.split('/')[-1]\n",
    "    a=a.replace(\"-\", \"_\")\n",
    "    arr=a.split('_')\n",
    "    if len(arr[3])==6:\n",
    "        arr[3]='20'+arr[3][4:]+arr[3][:4]\n",
    "    return arr[1]+'-'+'_'.join(arr[2:4])\n",
    "\n",
    "fn_to_id(\"./google_output/DVR_1-1094_20070315_773.txt\")"
   ]
  },
  {
   "cell_type": "code",
   "execution_count": 15,
   "metadata": {
    "scrolled": true
   },
   "outputs": [
    {
     "name": "stdout",
     "output_type": "stream",
     "text": [
      "./google_output/DVR_1-0532_120605_754_downsampled.txt\n",
      "./google_output/DVR_3-8236_022712_811_downsampled.txt\n",
      "./google_output/DVR_3-0581_081010_782_downsampled.txt\n",
      "./google_output/DVR_3-0192_121710_792_downsampled.txt\n",
      "./google_output/DVR_1-1507_061008_767_downsampled.txt\n",
      "./google_output/DVR_1_4432_101006_767.txt\n",
      "./google_output/DVR_3-0611_032511_793_downsampled.txt\n",
      "./google_output/DVR_1_4432_041113_016.txt\n",
      "./google_output/DVR_1-3584_062111_811_downsampled.txt\n",
      "./google_output/DVR_3-7501_061410_758_downsampled.txt\n",
      "./google_output/DVR_3-0224_121109_793_downsampled.txt\n",
      "./google_output/DVR_0_6412_041807_755.txt\n",
      "./google_output/DVR_3-8032_032911_815_downsampled.txt\n",
      "./google_output/DVR_1_7254_091307_738.txt\n",
      "./google_output/DVR_3-9634_110711_791_downsampled.txt\n",
      "./google_output/DVR_1-2502_011607_738_downsampled.txt\n",
      "./google_output/DVR_3-0022_061713_840_downsampled.txt\n",
      "./google_output/DVR_3-6355_090810_791_downsampled.txt\n",
      "./google_output/DVR_0_5119_072507_773.txt\n",
      "./google_output/DVR_1-6792_092506_754_downsampled.txt\n",
      "./google_output/DVR_1_2935_110513_782.txt\n",
      "./google_output/DVR_3-4444_120109_793_downsampled.txt\n",
      "./google_output/DVR_1-0548_060906_767_downsampled.txt\n",
      "./google_output/DVR_1-2941_032307_754_downsampled.txt\n",
      "./google_output/DVR_1_1120_042806_740.txt\n",
      "./google_output/DVR_1-3886_062608_767_downsampled.txt\n",
      "./google_output/DVR_3-7079_012012_793_downsampled.txt\n",
      "./google_output/dvr_1_0787_20180604_906.txt\n",
      "./google_output/DVR_1_0787_030306_759.txt\n",
      "./google_output/DVR_1_1021_081211_815.txt\n",
      "./google_output/DVR_3-1155_050311_811_downsampled.txt\n",
      "./google_output/DVR_3-3965_022112_811_downsampled.txt\n",
      "./google_output/DVR_1_2935_012210_792.txt\n",
      "./google_output/DVR_1_0172_092707_773.txt\n",
      "./google_output/DVR_1_1120_032212_815.txt\n",
      "./google_output/DVR_1-2227_082113_839_downsampled.txt\n",
      "./google_output/DVR_1-7722_032806_738_downsampled.txt\n",
      "./google_output/DVR_1_0787_060412_782.txt\n",
      "./google_output/DVR_0-4067_080906_740_downsampled.txt\n",
      "./google_output/DVR_1-0717_120106_738_downsampled.txt\n",
      "./google_output/DVR_3-7227_062212_782_downsampled.txt\n",
      "./google_output/DVR_1-7605_071706_758_downsampled.txt\n",
      "./google_output/DVR_1-5263_022106_740_downsampled.txt\n",
      "./google_output/DVR_1-1138_030606_754_downsampled.txt\n",
      "./google_output/DVR_3-1203_101513_782_downsampled.txt\n",
      "./google_output/DVR_1_1021_100108_767.txt\n",
      "./google_output/DVR_0_0138_062507_773.txt\n",
      "./google_output/DVR_1-6319_061206_762_downsampled.txt\n",
      "./google_output/DVR_0-6381_011106_754_downsampled.txt\n",
      "./google_output/DVR_1_1120_073010_793.txt\n",
      "./google_output/DVR_1-4770_022114_837_downsampled.txt\n",
      "./google_output/DVR_3-9499_040210_791_downsampled.txt\n",
      "./google_output/DVR_3-7513_042513_793_downsampled.txt\n",
      "./google_output/DVR_3-1326_071310_804_downsampled.txt\n",
      "./google_output/DVR_1-7489_110306_773_downsampled.txt\n",
      "./google_output/DVR_3-1283_120309_798_downsampled.txt\n",
      "./google_output/DVR_3-7418_032211_792_downsampled.txt\n",
      "./google_output/DVR_1_2935_021307_738.txt\n",
      "./google_output/DVR_1-3606_030907_738_downsampled.txt\n",
      "./google_output/DVR_3-7093_092010_817_downsampled.txt\n",
      "./google_output/DVR_1-6005_062206_754_downsampled.txt\n",
      "./google_output/DVR_1-0825_101406_767_downsampled.txt\n",
      "./google_output/DVR_1_1917_091712_827.txt\n",
      "./google_output/DVR_1_7367_05222006_762.txt\n",
      "./google_output/DVR_1-7011_120213_839_downsampled.txt\n",
      "./google_output/DVR_1_0787_080808_780.txt\n",
      "./google_output/DVR_1_3684_052710_804.txt\n",
      "./google_output/DVR_1_1917_102809_798.txt\n",
      "./google_output/DVR_1_3679_021109_787.txt\n",
      "./google_output/DVR_0-6134_040809_738_downsampled.txt\n",
      "./google_output/DVR_1-3826_101805_754_downsampled.txt\n",
      "./google_output/DVR_1-0734_082106_754_downsampled.txt\n",
      "./google_output/DVR_1_1021_060710_793.txt\n",
      "./google_output/DVR_1_1021_051507_758.txt\n",
      "./google_output/dvr_1_2935_20170816_911.txt\n",
      "./google_output/DVR_7-3386_041707_773_downsampled.txt\n",
      "./google_output/DVR_1-4159_101306_754_downsampled.txt\n",
      "./google_output/DVR_1-7359_061906_762_downsampled.txt\n",
      "./google_output/DVR_3-1904_062112_793_downsampled.txt\n",
      "./google_output/DVR_7-3377_063014_839_downsampled.txt\n",
      "./google_output/DVR_0-3766_031908_773_downsampled.txt\n",
      "./google_output/DVR_3-3713_021810_792_downsampled.txt\n",
      "./google_output/DVR_0_5147_051608_738.txt\n",
      "./google_output/DVR_3-2286_112612_831_downsampled.txt\n",
      "./google_output/DVR_1_2935_110508_738.txt\n",
      "./google_output/DVR_1-2892_060809_754_downsampled.txt\n",
      "./google_output/DVR_1-4320_012414_782_downsampled.txt\n",
      "./google_output/DVR_1_0787_061810_793.txt\n"
     ]
    },
    {
     "data": {
      "text/plain": [
       "1156"
      ]
     },
     "execution_count": 15,
     "metadata": {},
     "output_type": "execute_result"
    }
   ],
   "source": [
    "id_list=[]\n",
    "k=0\n",
    "remove_arr=[]\n",
    "for i in range(len(file_list)):\n",
    "    if fn_to_id(file_list[i]) in df['id_date'].unique():\n",
    "        id_list.append(fn_to_id(file_list[i]))\n",
    "    else:\n",
    "        remove_arr.append(i)\n",
    "        print(file_list[i])\n",
    "        k+=1\n",
    "file_list=[j for i,j in enumerate(file_list) if i not in remove_arr]\n",
    "len(file_list)"
   ]
  },
  {
   "cell_type": "code",
   "execution_count": 44,
   "metadata": {
    "scrolled": true
   },
   "outputs": [
    {
     "name": "stderr",
     "output_type": "stream",
     "text": [
      "100%|██████████| 1156/1156 [1:59:47<00:00,  6.22s/it] \n"
     ]
    }
   ],
   "source": [
    "col_names=[\"id_date\",\"diagnosis\"]\n",
    "\n",
    "\n",
    "for i in range(512):\n",
    "    col_names.append(\"feature_\"+str(i))\n",
    "DF = pd.DataFrame(columns=col_names)          \n",
    "\n",
    "arr=[]\n",
    "skipped=0\n",
    "for fn in tqdm(file_list):\n",
    "    id_date = fn_to_id(fn)\n",
    "    f = open(fn, \"r\")\n",
    "    txt=(f.read())\n",
    "    speaker_1_count=0\n",
    "    speaker_1 = []\n",
    "    speaker_2_count=0\n",
    "    speaker_2 = []\n",
    "    for i in txt.split(\"\\n\"):\n",
    "        if \"speaker 1\" in i:\n",
    "            speaker_1.append(i[11:])\n",
    "            speaker_1_count+=len(i[11:])\n",
    "        elif \"speaker 2\" in i:\n",
    "            speaker_2.append(i[11:])\n",
    "            speaker_2_count+=len(i[11:])\n",
    "    if speaker_1_count<speaker_2_count:\n",
    "        txt_arr=speaker_1\n",
    "    else:\n",
    "        txt_arr=speaker_2\n",
    "    if len(txt_arr)>50:\n",
    "        diagnosis= df[df[\"id_date\"]==id_date].is_demented_at_recording.values[0]\n",
    "        for i in range(30):\n",
    "            txt = ' '.join(random.sample(txt_arr,25))\n",
    "            feature=embed([txt]).numpy().tolist()[0]\n",
    "            arr=[id_date,diagnosis]+feature\n",
    "            DF=DF.append(pd.Series(arr, index=col_names), ignore_index=True)\n",
    "    else:\n",
    "        skipped+=1"
   ]
  },
  {
   "cell_type": "code",
   "execution_count": 45,
   "metadata": {},
   "outputs": [],
   "source": [
    "DF.to_pickle(\"./complete30x25.pkl\")"
   ]
  },
  {
   "cell_type": "code",
   "execution_count": null,
   "metadata": {},
   "outputs": [],
   "source": [
    "id_list=df_txt[\"file_name\"].unique()\n",
    "id_list[1010]='1-7367_20060522'\n",
    "skipped=0\n",
    "for id in tqdm(id_list):\n",
    "    if (len(df_txt[df_txt[\"file_name\"]==id].text))==30:\n",
    "        diagnosis= df[df[\"id_date\"]==id].is_demented_at_recording.values[0]\n",
    "        for i in range(20):\n",
    "            txt_arr=df_txt[df_txt[\"file_name\"]==id].text.tolist()\n",
    "            txt = ' '.join(random.sample(txt_arr,2))\n",
    "            feature=embed([txt]).numpy().tolist()[0]\n",
    "            arr=[id,diagnosis]+feature\n",
    "            DF=DF.append(pd.Series(arr, index=col_names), ignore_index=True)\n",
    "    else:\n",
    "        skipped+=1\n",
    "DF.to_pickle(\"./complete_sample_20.pkl\")"
   ]
  },
  {
   "cell_type": "code",
   "execution_count": null,
   "metadata": {},
   "outputs": [],
   "source": [
    "DF_tmp=DF"
   ]
  },
  {
   "cell_type": "code",
   "execution_count": null,
   "metadata": {},
   "outputs": [],
   "source": [
    "len(DF)"
   ]
  },
  {
   "cell_type": "code",
   "execution_count": null,
   "metadata": {},
   "outputs": [],
   "source": [
    "len(id_list)"
   ]
  },
  {
   "cell_type": "code",
   "execution_count": null,
   "metadata": {},
   "outputs": [],
   "source": [
    "df_=pd.read_pickle(\"./sample_20.pkl\")"
   ]
  },
  {
   "cell_type": "code",
   "execution_count": null,
   "metadata": {},
   "outputs": [],
   "source": [
    "DF.diagnosis.sum()"
   ]
  },
  {
   "cell_type": "code",
   "execution_count": null,
   "metadata": {},
   "outputs": [],
   "source": [
    "df_all=pd.concat([df_,DF])"
   ]
  },
  {
   "cell_type": "code",
   "execution_count": null,
   "metadata": {},
   "outputs": [],
   "source": [
    "len(df_)"
   ]
  },
  {
   "cell_type": "code",
   "execution_count": null,
   "metadata": {},
   "outputs": [],
   "source": [
    "df_all.to_pickle(\"./complete_sample_20.pkl\")"
   ]
  },
  {
   "cell_type": "code",
   "execution_count": null,
   "metadata": {},
   "outputs": [],
   "source": [
    "df_all"
   ]
  },
  {
   "cell_type": "code",
   "execution_count": null,
   "metadata": {},
   "outputs": [],
   "source": [
    "def id_to_id(a):\n",
    "    a=a.replace(\"-\", \"_\")\n",
    "    arr=a.split('_')\n",
    "    if len(arr[2])==6:\n",
    "        arr[2]='20'+arr[2][4:]+arr[2][:4]\n",
    "    return arr[0]+'-'+'_'.join(arr[1:3])\n",
    "df_all[\"id_date\"] = df_all[\"id_date\"] .apply(id_to_id)\n",
    "df_all.to_pickle(\"./complete_sample_20.pkl\")"
   ]
  },
  {
   "cell_type": "code",
   "execution_count": null,
   "metadata": {},
   "outputs": [],
   "source": [
    "df_all"
   ]
  },
  {
   "cell_type": "code",
   "execution_count": null,
   "metadata": {},
   "outputs": [],
   "source": []
  }
 ],
 "metadata": {
  "kernelspec": {
   "display_name": "Python 3",
   "language": "python",
   "name": "python3"
  },
  "language_info": {
   "codemirror_mode": {
    "name": "ipython",
    "version": 3
   },
   "file_extension": ".py",
   "mimetype": "text/x-python",
   "name": "python",
   "nbconvert_exporter": "python",
   "pygments_lexer": "ipython3",
   "version": "3.7.5"
  }
 },
 "nbformat": 4,
 "nbformat_minor": 2
}
